{
 "cells": [
  {
   "cell_type": "code",
   "execution_count": 3,
   "metadata": {},
   "outputs": [
    {
     "name": "stdout",
     "output_type": "stream",
     "text": [
      "(60000, 28, 28)\n",
      "(60000,)\n",
      "(10000, 28, 28)\n",
      "(10000,)\n",
      "10000/10000 [==============================] - 0s 24us/step\n",
      "Accuracy:  0.9614\n"
     ]
    }
   ],
   "source": [
    "'''import keras\n",
    "from keras.datasets import mnist\n",
    "from keras.layers import Dense\n",
    "from keras.models import Sequential\n",
    "from keras.optimizers import SGD\n",
    "import matplotlib.pyplot as plt\n",
    "\n",
    "(train_x, train_y) , (test_x, test_y) = mnist.load_data()\n",
    "#train_x = train_x.astype('float32') / 255\n",
    "#test_x = test_x.astype('float32') / 255\n",
    "print(train_x.shape)\n",
    "print(train_y.shape)\n",
    "print(test_x.shape)\n",
    "print(test_y.shape)\n",
    "train_x = train_x.reshape(60000,784)\n",
    "test_x = test_x.reshape(10000,784)\n",
    "train_y = keras.utils.to_categorical(train_y,10)\n",
    "test_y = keras.utils.to_categorical(test_y,10)\n",
    "model = Sequential()\n",
    "model.add(Dense(units=128,activation=\"relu\",input_shape=(784,)))\n",
    "model.add(Dense(units=128,activation=\"relu\"))\n",
    "model.add(Dense(units=128,activation=\"relu\"))\n",
    "model.add(Dense(units=10,activation=\"softmax\"))\n",
    "model.compile(optimizer=SGD(0.001),loss=\"categorical_crossentropy\",metrics=[\"accuracy\"])\n",
    "model.load_weights(\"mnist-model.h5\")\n",
    "#model.fit(train_x,train_y,batch_size=32,epochs=10,verbose=1)\n",
    "#model.save(\"mnistmodel.h5\")\n",
    "accuracy = model.evaluate(x=test_x,y=test_y,batch_size=32)\n",
    "print(\"Accuracy: \",accuracy[1])"
   ]
  },
  {
   "cell_type": "code",
   "execution_count": 6,
   "metadata": {},
   "outputs": [
    {
     "name": "stdout",
     "output_type": "stream",
     "text": [
      "Class:  1\n"
     ]
    },
    {
     "data": {
      "image/png": "[encoded data removed]",
      "text/plain": [
       "<Figure size 432x288 with 1 Axes>"
      ]
     },
     "metadata": {},
     "output_type": "display_data"
    }
   ],
   "source": []
  },
  {
   "cell_type": "code",
   "execution_count": 9,
   "metadata": {},
   "outputs": [
    {
     "name": "stdout",
     "output_type": "stream",
     "text": [
      "Loaded model from disk\n"
     ]
    }
   ],
   "source": [
    "from keras.models import load_model\n",
    "from keras.models import model_from_json\n",
    "from keras.preprocessing import image\n",
    "import numpy as np\n",
    "from PIL import Image\n",
    "from keras.optimizers import SGD\n",
    "import matplotlib.pyplot as plt\n",
    "import PIL.ImageOps    \n",
    "from keras.datasets import mnist\n",
    "\n",
    "(train_images, train_labels), (test_images, test_labels) = mnist.load_data()\n",
    "test_images = test_images.reshape(10000,784)\n",
    "\n",
    "json_file = open('modelJSON.json', 'r')\n",
    "loaded_model_json = json_file.read()\n",
    "json_file.close()\n",
    "loaded_model = model_from_json(loaded_model_json)\n",
    "    # load weights into new model\n",
    "loaded_model.load_weights(\"mnist-modelJSON.h5\")\n",
    "\n",
    "print(\"Loaded model from disk\")\n",
    "loaded_model.compile(optimizer=SGD(0.001),loss=\"categorical_crossentropy\",metrics=[\"accuracy\"])\n",
    "\n",
    "#accuracy = loaded_model.evaluate(x=test_images,y=test_labels,batch_size=32)\n",
    "#print(\"Accuracy: \",accuracy[1])"
   ]
  },
  {
   "cell_type": "code",
   "execution_count": 20,
   "metadata": {},
   "outputs": [
    {
     "name": "stdout",
     "output_type": "stream",
     "text": [
      "<class 'PIL.Image.Image'>\n",
      "(1, 784)\n",
      "Class:  5\n"
     ]
    },
    {
     "data": {
      "image/png": "[encoded data removed]",
      "text/plain": [
       "<Figure size 432x288 with 1 Axes>"
      ]
     },
     "metadata": {},
     "output_type": "display_data"
    }
   ],
   "source": [
    "#img = test_x[9999]\n",
    "img = image.load_img('C:/Users/Zainab/Desktop/Flask3/cnn/mni/1.png',target_size=(28, 28),color_mode=\"grayscale\")\n",
    "print(type(img))\n",
    "img=image.img_to_array(img)\n",
    "\n",
    "\n",
    "test_img = img.reshape(1,784)\n",
    "\n",
    "print(test_img.shape)\n",
    "img_class = loaded_model.predict_classes(test_img)\n",
    "prediction = img_class[0]\n",
    "classname = img_class[0]\n",
    "print(\"Class: \",classname)\n",
    "img = img.reshape((28,28))\n",
    "plt.imshow(img)\n",
    "plt.title(classname)\n",
    "plt.show()"
   ]
  },
  {
   "cell_type": "code",
   "execution_count": null,
   "metadata": {},
   "outputs": [],
   "source": []
  }
 ],
 "metadata": {
  "kernelspec": {
   "display_name": "Python 3",
   "language": "python",
   "name": "python3"
  },
  "language_info": {
   "codemirror_mode": {
    "name": "ipython",
    "version": 3
   },
   "file_extension": ".py",
   "mimetype": "text/x-python",
   "name": "python",
   "nbconvert_exporter": "python",
   "pygments_lexer": "ipython3",
   "version": "3.6.5"
  }
 },
 "nbformat": 4,
 "nbformat_minor": 2
}
