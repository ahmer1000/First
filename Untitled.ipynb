{
 "cells": [
  {
   "cell_type": "code",
   "execution_count": 1,
   "metadata": {},
   "outputs": [
    {
     "name": "stdout",
     "output_type": "stream",
     "text": [
      "[2002, 2009, 2016, 2023, 2037, 2044, 2051, 2058, 2072, 2079, 2086, 2093, 2107, 2114, 2121, 2128, 2142, 2149, 2156, 2163, 2177, 2184, 2191, 2198, 2212, 2219, 2226, 2233, 2247, 2254, 2261, 2268, 2282, 2289, 2296, 2303, 2317, 2324, 2331, 2338, 2352, 2359, 2366, 2373, 2387, 2394, 2401, 2408, 2422, 2429, 2436, 2443, 2457, 2464, 2471, 2478, 2492, 2499, 2506, 2513, 2527, 2534, 2541, 2548, 2562, 2569, 2576, 2583, 2597, 2604, 2611, 2618, 2632, 2639, 2646, 2653, 2667, 2674, 2681, 2688, 2702, 2709, 2716, 2723, 2737, 2744, 2751, 2758, 2772, 2779, 2786, 2793, 2807, 2814, 2821, 2828, 2842, 2849, 2856, 2863, 2877, 2884, 2891, 2898, 2912, 2919, 2926, 2933, 2947, 2954, 2961, 2968, 2982, 2989, 2996, 3003, 3017, 3024, 3031, 3038, 3052, 3059, 3066, 3073, 3087, 3094, 3101, 3108, 3122, 3129, 3136, 3143, 3157, 3164, 3171, 3178, 3192, 3199]\n"
     ]
    }
   ],
   "source": [
    "'''\n",
    "Question:\n",
    "Write a program which will find all such numbers which are divisible by 7 but are not a multiple of 5,\n",
    "between 2000 and 3200 (both included).\n",
    "The numbers obtained should be printed in a comma-separated sequence on a single line.''\n",
    "'''\n",
    "\n",
    "\n",
    "list1=[x for x in range(1999,3201) if (x%7== 0) and x%5!=0  ]\n",
    "print( list1)\n"
   ]
  },
  {
   "cell_type": "code",
   "execution_count": null,
   "metadata": {},
   "outputs": [],
   "source": [
    "'''\n",
    "Question 2\n",
    "Level 1\n",
    "\n",
    "Question:\n",
    "Write a program which can compute the factorial of a given numbers.\n",
    "The results should be printed in a comma-separated sequence on a single line.\n",
    "Suppose the following input is supplied to the program:\n",
    "8\n",
    "Then, the output should be:\n",
    "40320\n",
    "'''\n",
    "\n",
    "#fac=[y for y in range(int(input())): print(y)]\n",
    "\n",
    "num=int(input())\n",
    "\n",
    "for y in range(-num+1,0):\n",
    "    num*=y  \n",
    "print(num)\n",
    "\n",
    "\n",
    "d=dict()\n",
    "snum=1\n",
    "\n",
    "n=int(input())\n",
    "d=dict()\n",
    "for i in range(1,n+1):\n",
    "    d[i]=i*i\n",
    "    snum*= d[i]\n",
    "print (d)\n",
    "print (snum)"
   ]
  },
  {
   "cell_type": "code",
   "execution_count": 94,
   "metadata": {},
   "outputs": [
    {
     "name": "stdout",
     "output_type": "stream",
     "text": [
      "34,67,55,33,12,98\n",
      "['34', '67', '55', '33', '12', '98']\n",
      "('34', '67', '55', '33', '12', '98')\n"
     ]
    }
   ],
   "source": [
    "'''Question 4\n",
    "Level 1\n",
    "\n",
    "Question:\n",
    "Write a program which accepts a sequence of comma-separated numbers from console and generate a list and a tuple which contains every number.\n",
    "Suppose the following input is supplied to the program:\n",
    "34,67,55,33,12,98\n",
    "Then, the output should be:\n",
    "['34', '67', '55', '33', '12', '98']\n",
    "('34', '67', '55', '33', '12', '98')\n",
    "'''\n",
    "\n",
    "newTuple =(input())\n",
    "sepList=newTuple.split(\",\")\n",
    "sepTup=tuple(sepList)\n",
    "print (sepList)\n",
    "print (sepTup)"
   ]
  },
  {
   "cell_type": "code",
   "execution_count": null,
   "metadata": {},
   "outputs": [],
   "source": [
    "\n",
    "class Person:\n",
    "    a=10\n",
    "    def __init__(mysillyobject, name, age):\n",
    "        mysillyobject.a = age\n",
    "        mysillyobject.age = age\n",
    "        \n",
    "\n",
    "        \n",
    "    def myfunc(self):\n",
    "            print(\"Hello my name is \" + str(self.a))\n",
    "\n",
    "p1 = Person(\"John\", 36)\n",
    "p1.myfunc()\n",
    "p2 = Person(\"John11\", 3633)\n",
    "p2.myfunc()\n",
    "print (p2.a)\n",
    "p2.myfunc()"
   ]
  },
  {
   "cell_type": "code",
   "execution_count": null,
   "metadata": {},
   "outputs": [],
   "source": [
    "class InputOutString(object):\n",
    "    \n",
    "    s=\"instantiate me\"\n",
    "    \n",
    "    def __init__(self):\n",
    "            s=\"\"\n",
    "\n",
    "    def getString(self):\n",
    "        self.s = input()\n",
    "\n",
    "    def printString(self):\n",
    "        print (self.s.upper())\n",
    "\n",
    "a = InputOutString()\n",
    "a.getString()\n",
    "a.printString()"
   ]
  },
  {
   "cell_type": "code",
   "execution_count": null,
   "metadata": {},
   "outputs": [],
   "source": [
    "'''Question 6\n",
    "Level 2\n",
    "\n",
    "Question:\n",
    "Write a program that calculates and prints the value according to the given formula:\n",
    "Q = Square root of [(2 * C * D)/H]\n",
    "Following are the fixed values of C and H:\n",
    "C is 50. H is 30.\n",
    "D is the variable whose values should be input to your program in a comma-separated sequence.\n",
    "Example\n",
    "Let us assume the following comma separated input sequence is given to the program:\n",
    "100,150,180\n",
    "The output of the program should be:\n",
    "18,22,24'''\n",
    "\n",
    "\n",
    "import math\n",
    "\n",
    "list_of=input()\n",
    "new =[]\n",
    "c=50\n",
    "d=list_of.split(\",\")\n",
    "h=30\n",
    "\n",
    "new=[round(math.sqrt((2*c*int(i))/h)) for i in d]\n",
    "     \n",
    "   \n",
    "    \n",
    "\n",
    "print(new)"
   ]
  },
  {
   "cell_type": "code",
   "execution_count": null,
   "metadata": {},
   "outputs": [],
   "source": [
    "'''Question:\n",
    "Write a program which takes 2 digits, X,Y as input and generates a 2-dimensional array. The element value in the i-th row and j-th column of the array should be i*j.\n",
    "Note: i=0,1.., X-1; j=0,1,¡­Y-1.\n",
    "Example\n",
    "Suppose the following inputs are given to the program:\n",
    "3,5\n",
    "Then, the output of the program should be:\n",
    "[[0, 0, 0, 0, 0], [0, 1, 2, 3, 4], [0, 2, 4, 6, 8]] \n",
    "\n",
    "Hints:\n",
    "Note: In case of input data being supplied to the question, it should be assumed to be a console input in a comma-separated form.\n",
    "'''"
   ]
  },
  {
   "cell_type": "code",
   "execution_count": 11,
   "metadata": {},
   "outputs": [
    {
     "name": "stdout",
     "output_type": "stream",
     "text": [
      "4\n",
      "5\n",
      "[[0, 0, 0, 0, 0], [0, 1, 2, 3, 4], [0, 2, 4, 6, 8], [0, 3, 6, 9, 12]]\n"
     ]
    }
   ],
   "source": [
    "li=[]\n",
    "x=int(input())\n",
    "y=int(input())\n",
    "li= [[i*j for i in range(y)]  for j in range (x)]\n",
    "\n",
    "print (li)"
   ]
  },
  {
   "cell_type": "code",
   "execution_count": 12,
   "metadata": {},
   "outputs": [
    {
     "data": {
      "text/plain": [
       "'Question 8\\nLevel 2\\n\\nQuestion:\\nWrite a program that accepts a comma separated sequence of words as input and prints the words in a comma-separated sequence after sorting them alphabetically.\\nSuppose the following input is supplied to the program:\\nwithout,hello,bag,world\\nThen, the output should be:\\nbag,hello,without,world\\n'"
      ]
     },
     "execution_count": 12,
     "metadata": {},
     "output_type": "execute_result"
    }
   ],
   "source": [
    "'''Question 8\n",
    "Level 2\n",
    "\n",
    "Question:\n",
    "Write a program that accepts a comma separated sequence of words as input and prints the words in a comma-separated sequence after sorting them alphabetically.\n",
    "Suppose the following input is supplied to the program:\n",
    "without,hello,bag,world\n",
    "Then, the output should be:\n",
    "bag,hello,without,world\n",
    "'''"
   ]
  },
  {
   "cell_type": "code",
   "execution_count": null,
   "metadata": {},
   "outputs": [],
   "source": [
    "stringer=input().split(\",\")\n",
    "stringer.sort()\n",
    "print (stringer)"
   ]
  },
  {
   "cell_type": "code",
   "execution_count": 12,
   "metadata": {},
   "outputs": [
    {
     "name": "stdout",
     "output_type": "stream",
     "text": [
      "kl\n",
      "hkjhk\n",
      "\n",
      "KL\n",
      "HKJHK\n"
     ]
    },
    {
     "data": {
      "text/plain": [
       "[None, None]"
      ]
     },
     "execution_count": 12,
     "metadata": {},
     "output_type": "execute_result"
    }
   ],
   "source": [
    "'''Question 9\n",
    "Level 2\n",
    "\n",
    "Question£º\n",
    "Write a program that accepts sequence of lines as input and prints the lines after making all characters in the sentence capitalized.\n",
    "Suppose the following input is supplied to the program:\n",
    "Hello world\n",
    "Practice makes perfect\n",
    "Then, the output should be:\n",
    "HELLO WORLD\n",
    "PRACTICE MAKES PERFECT\n",
    "'''\n",
    "\n",
    "listl=[]\n",
    "while True:\n",
    "    stringer2=input()\n",
    "    if stringer2:\n",
    "        listl.append(stringer2.upper())\n",
    "        \n",
    "    else:\n",
    "        break\n",
    "        \n",
    "[print(listl[i]) for i in range(0,len(listl))]\n",
    "         \n"
   ]
  },
  {
   "cell_type": "code",
   "execution_count": 23,
   "metadata": {},
   "outputs": [
    {
     "name": "stdout",
     "output_type": "stream",
     "text": [
      "hello world and practice makes perfect and hello world again\n",
      "['hello', 'world', 'and', 'practice', 'makes', 'perfect', 'and', 'hello', 'world', 'again']\n",
      "['again', 'and', 'hello', 'makes', 'perfect', 'practice', 'world']\n"
     ]
    }
   ],
   "source": [
    "'''Level 2\n",
    "\n",
    "Question:\n",
    "Write a program that accepts a sequence of whitespace separated words as input and prints the words after removing all duplicate words and sorting them alphanumerically.\n",
    "Suppose the following input is supplied to the program:\n",
    "hello world and practice makes perfect and hello world again\n",
    "Then, the output should be:\n",
    "again and hello makes perfect practice world\n",
    "\n",
    "Hints:\n",
    "In case of input data being supplied to the question, it should be assumed to be a console input.\n",
    "We use set container to remove duplicated data automatically and then use sorted() to sort the data.\n",
    "'''\n",
    "\n",
    "\n",
    "\n",
    "stringer2=input()\n",
    "list_10=stringer2.split(' ')\n",
    "print (list_10)\n",
    "aa=list(set(list_10))\n",
    "aa.sort()\n",
    "print(aa)"
   ]
  },
  {
   "cell_type": "code",
   "execution_count": 15,
   "metadata": {},
   "outputs": [
    {
     "name": "stdout",
     "output_type": "stream",
     "text": [
      "0100,0011,1010,1001\n",
      "1010\n"
     ]
    }
   ],
   "source": [
    "'''Write a program which accepts a sequence of comma separated 4 digit binary numbers as its input and then check whether they are divisible by 5 or not. The numbers that are divisible by 5 are to be printed in a comma separated sequence.\n",
    "Example:\n",
    "0100,0011,1010,1001\n",
    "Then the output should be:\n",
    "1010\n",
    "Notes: Assume the data is input by console.\n",
    "'''\n",
    "stringer3=[int(x) for x in input().split(',')]\n",
    "numberst=''\n",
    "\n",
    "for j in stringer3:\n",
    "    if j%5==0: \n",
    "        numberst+=\"1\"\n",
    "    else: \n",
    "        numberst+='0'\n",
    "\n",
    "print(numberst)        "
   ]
  },
  {
   "cell_type": "code",
   "execution_count": 46,
   "metadata": {},
   "outputs": [
    {
     "name": "stdout",
     "output_type": "stream",
     "text": [
      "1001\n",
      "['2000', '2002', '2004', '2006', '2008', '2020', '2022', '2024', '2026', '2028', '2040', '2042', '2044', '2046', '2048', '2060', '2062', '2064', '2066', '2068', '2080', '2082', '2084', '2086', '2088', '2200', '2202', '2204', '2206', '2208', '2220', '2222', '2224', '2226', '2228', '2240', '2242', '2244', '2246', '2248', '2260', '2262', '2264', '2266', '2268', '2280', '2282', '2284', '2286', '2288', '2400', '2402', '2404', '2406', '2408', '2420', '2422', '2424', '2426', '2428', '2440', '2442', '2444', '2446', '2448', '2460', '2462', '2464', '2466', '2468', '2480', '2482', '2484', '2486', '2488', '2600', '2602', '2604', '2606', '2608', '2620', '2622', '2624', '2626', '2628', '2640', '2642', '2644', '2646', '2648', '2660', '2662', '2664', '2666', '2668', '2680', '2682', '2684', '2686', '2688', '2800', '2802', '2804', '2806', '2808', '2820', '2822', '2824', '2826', '2828', '2840', '2842', '2844', '2846', '2848', '2860', '2862', '2864', '2866', '2868', '2880', '2882', '2884', '2886', '2888']\n"
     ]
    }
   ],
   "source": [
    "'''Write a program, which will find all such numbers between 1000 and 3000 (both included) such that each digit of the number is an even number.\n",
    "The numbers obtained should be printed in a comma-separated sequence on a single line.\n",
    "\\\n",
    "Hints:\n",
    "In case of input data being supplied to the question, it should be assumed to be a console input.\n",
    "'''\n",
    "lis=[]\n",
    "evenL=[str(even) for even in range(1000,3001,2)]\n",
    "\n",
    "for i in evenL:\n",
    "\n",
    "    for j in i:\n",
    "        num=int(j)%2\n",
    "        if num>0 :\n",
    "            lis.append(i)\n",
    "            break\n",
    "\n",
    "\n",
    "            \n",
    "sor=set(evenL)-set(lis)\n",
    "print(sorted(list(sor)))"
   ]
  },
  {
   "cell_type": "code",
   "execution_count": 3,
   "metadata": {},
   "outputs": [
    {
     "name": "stdout",
     "output_type": "stream",
     "text": [
      "2000,2002,2004,2006,2008,2020,2022,2024,2026,2028,2040,2042,2044,2046,2048,2060,2062,2064,2066,2068,2080,2082,2084,2086,2088,2200,2202,2204,2206,2208,2220,2222,2224,2226,2228,2240,2242,2244,2246,2248,2260,2262,2264,2266,2268,2280,2282,2284,2286,2288,2400,2402,2404,2406,2408,2420,2422,2424,2426,2428,2440,2442,2444,2446,2448,2460,2462,2464,2466,2468,2480,2482,2484,2486,2488,2600,2602,2604,2606,2608,2620,2622,2624,2626,2628,2640,2642,2644,2646,2648,2660,2662,2664,2666,2668,2680,2682,2684,2686,2688,2800,2802,2804,2806,2808,2820,2822,2824,2826,2828,2840,2842,2844,2846,2848,2860,2862,2864,2866,2868,2880,2882,2884,2886,2888\n"
     ]
    }
   ],
   "source": [
    "\n"
   ]
  },
  {
   "cell_type": "code",
   "execution_count": 15,
   "metadata": {},
   "outputs": [
    {
     "name": "stdout",
     "output_type": "stream",
     "text": [
      "hello world! 123\n",
      "Letters 10 Digits 3\n"
     ]
    }
   ],
   "source": [
    "'''Write a program that accepts a sentence and calculate the number of letters and digits.\n",
    "Suppose the following input is supplied to the program:\n",
    "hello world! 123\n",
    "Then, the output should be:\n",
    "LETTERS 10\n",
    "DIGITS 3\n",
    "'''\n",
    "a=0;\n",
    "b=0\n",
    "inp=input()\n",
    "for x in inp:\n",
    "    if x.isalnum():\n",
    "        if x.isalpha():\n",
    "            a+=1\n",
    "        else:\n",
    "            b+=1\n",
    "    \n",
    "    \n",
    "print (\"Letters \"+str(a), \"Digits \"+str(b))\n"
   ]
  },
  {
   "cell_type": "code",
   "execution_count": 33,
   "metadata": {},
   "outputs": [
    {
     "name": "stdout",
     "output_type": "stream",
     "text": [
      "0\n",
      "Hello wOrld!\n",
      "upper case 2\n",
      "lower case 8\n"
     ]
    }
   ],
   "source": [
    "'''Write a program that accepts a sentence and calculate the number of upper case letters and lower case letters.\n",
    "Suppose the following input is supplied to the program:\n",
    "Hello world!\n",
    "Then, the output should be:\n",
    "UPPER CASE 1\n",
    "LOWER CASE 9\n",
    "\n",
    "'''\n",
    "\n",
    "dic={\"upper\":0, \"lower\":0}\n",
    "print(dic['upper'])\n",
    "\n",
    "phir=input()\n",
    "for x in phir: \n",
    "    if x.isupper(): \n",
    "        dic['upper']+=1 \n",
    "    elif  x.islower():\n",
    "        dic['lower']+=1\n",
    "        \n",
    "        \n",
    "print(\"upper case \"+str(dic['upper']))       \n",
    "print(\"lower case \"+str(dic['lower']))    "
   ]
  },
  {
   "cell_type": "code",
   "execution_count": 34,
   "metadata": {},
   "outputs": [
    {
     "name": "stdout",
     "output_type": "stream",
     "text": [
      "9\n",
      "11106\n"
     ]
    }
   ],
   "source": [
    "a = input()\n",
    "n1 = int( \"%s\" % a )\n",
    "n2 = int( \"%s%s\" % (a,a) )\n",
    "n3 = int( \"%s%s%s\" % (a,a,a) )\n",
    "n4 = int( \"%s%s%s%s\" % (a,a,a,a) )\n",
    "print (n1+n2+n3+n4)"
   ]
  },
  {
   "cell_type": "code",
   "execution_count": 5,
   "metadata": {},
   "outputs": [
    {
     "name": "stdout",
     "output_type": "stream",
     "text": [
      "1,2,3,4,5,6,7,8,9\n",
      "['1', '2', '3', '4', '5', '6', '7', '8', '9']\n",
      "[1, 9, 25, 49, 81]\n"
     ]
    }
   ],
   "source": [
    "'''Question 16\n",
    "Level 2\n",
    "\n",
    "Question:\n",
    "Use a list comprehension to square each odd number in a list. The list is input by a sequence of comma-separated numbers.\n",
    "Suppose the following input is supplied to the program:\n",
    "1,2,3,4,5,6,7,8,9\n",
    "Then, the output should be:\n",
    "1,3,5,7,9\n",
    "\n",
    "Hints:\n",
    "In case of input data being supplied to the question, it should be assumed to be a console input.\n",
    "'''\n",
    "a=0;\n",
    "integ=input().split(',')\n",
    "print (integ)\n",
    "s=[ int(i)*int(i) for i in integ if int(i)%2!=0]\n",
    "print(s)"
   ]
  },
  {
   "cell_type": "code",
   "execution_count": 18,
   "metadata": {},
   "outputs": [
    {
     "name": "stdout",
     "output_type": "stream",
     "text": [
      "W300\n",
      "W200\n",
      "D500\n",
      "D200\n",
      "\n",
      "['W300', 'W200', 'D500', 'D200']\n",
      "iam w\n",
      "[300, 200]\n",
      "[500, 200]\n",
      "Todays collection net =200\n"
     ]
    }
   ],
   "source": [
    "'''Question 17\n",
    "Level 2\n",
    "\n",
    "Question:\n",
    "Write a program that computes the net amount of a bank account based a transaction log from console input. The transaction log format is shown as following:\n",
    "D 100\n",
    "W 200\n",
    "¡­\n",
    "D means deposit while W means withdrawal.\n",
    "Suppose the following input is supplied to the program:\n",
    "D 300\n",
    "D 300\n",
    "W 200\n",
    "D 100\n",
    "Then, the output should be:\n",
    "500\n",
    "'''\n",
    "li=[]\n",
    "d=[]\n",
    "s1=[]\n",
    "dep=0\n",
    "wdrawl=0\n",
    "\n",
    "while True:\n",
    "    inp=input()\n",
    "    if inp:\n",
    "        li.append(inp)\n",
    "    else:\n",
    "        break\n",
    "        \n",
    "[s1.append(int(i[1::])) if  i.find('D')!=0 else d.append(int(i[1::])) for i in li  ]        \n",
    "print(li)\n",
    "print(\"iam w\")\n",
    "print(s1)\n",
    "print(d)\n",
    "\n",
    "for i in s1:\n",
    "    wdrawl+=i\n",
    "    \n",
    "for i in d:\n",
    "    dep+=i\n",
    "\n",
    "print (\"Todays collection net =\"+str(dep-wdrawl))\n",
    "    "
   ]
  },
  {
   "cell_type": "code",
   "execution_count": 17,
   "metadata": {},
   "outputs": [
    {
     "name": "stdout",
     "output_type": "stream",
     "text": [
      "None\n",
      "<_sre.SRE_Match object; span=(2, 3), match='c'>\n",
      "<_sre.SRE_Match object; span=(2, 3), match='c'>\n"
     ]
    },
    {
     "data": {
      "text/plain": [
       "'c'"
      ]
     },
     "execution_count": 17,
     "metadata": {},
     "output_type": "execute_result"
    }
   ],
   "source": [
    "import re\n",
    "\n",
    "print(re.match('c',\"abcdef\"))\n",
    "print(re.search('c',\"abcdef\"))\n",
    "bool =re.search('c',\"abcdef\")\n",
    "print(bool)\n",
    "re.search('c', 'abcdefg').group()"
   ]
  },
  {
   "cell_type": "code",
   "execution_count": 18,
   "metadata": {},
   "outputs": [
    {
     "data": {
      "text/plain": [
       "3"
      ]
     },
     "execution_count": 18,
     "metadata": {},
     "output_type": "execute_result"
    }
   ],
   "source": [
    "re.search('d', 'abcdefg').start()"
   ]
  },
  {
   "cell_type": "code",
   "execution_count": 19,
   "metadata": {},
   "outputs": [
    {
     "data": {
      "text/plain": [
       "4"
      ]
     },
     "execution_count": 19,
     "metadata": {},
     "output_type": "execute_result"
    }
   ],
   "source": [
    "re.search('d', 'abcdefg').end()"
   ]
  },
  {
   "cell_type": "code",
   "execution_count": 11,
   "metadata": {},
   "outputs": [],
   "source": [
    "re.search('daf','abcdefghijk')"
   ]
  },
  {
   "cell_type": "code",
   "execution_count": 22,
   "metadata": {},
   "outputs": [
    {
     "data": {
      "text/plain": [
       "<_sre.SRE_Match object; span=(3, 6), match='def'>"
      ]
     },
     "execution_count": 22,
     "metadata": {},
     "output_type": "execute_result"
    }
   ],
   "source": [
    "re.search('d.f','abcdefghijk')"
   ]
  },
  {
   "cell_type": "code",
   "execution_count": 23,
   "metadata": {},
   "outputs": [
    {
     "data": {
      "text/plain": [
       "<_sre.SRE_Match object; span=(0, 1), match='a'>"
      ]
     },
     "execution_count": 23,
     "metadata": {},
     "output_type": "execute_result"
    }
   ],
   "source": [
    "re.search('c|a','abcdefghijk')"
   ]
  },
  {
   "cell_type": "code",
   "execution_count": 24,
   "metadata": {},
   "outputs": [
    {
     "data": {
      "text/plain": [
       "<_sre.SRE_Match object; span=(1, 2), match='c'>"
      ]
     },
     "execution_count": 24,
     "metadata": {},
     "output_type": "execute_result"
    }
   ],
   "source": [
    "re.search('c|a','bcdefghijka')"
   ]
  },
  {
   "cell_type": "code",
   "execution_count": 27,
   "metadata": {},
   "outputs": [
    {
     "data": {
      "text/plain": [
       "['c', 'a', 'a', 'c', 'c']"
      ]
     },
     "execution_count": 27,
     "metadata": {},
     "output_type": "execute_result"
    }
   ],
   "source": [
    "re.findall('a|c','bcdefghijka abcdec')"
   ]
  },
  {
   "cell_type": "code",
   "execution_count": 22,
   "metadata": {},
   "outputs": [
    {
     "name": "stdout",
     "output_type": "stream",
     "text": [
      "abcdefghijk\n",
      " joo new line\n"
     ]
    },
    {
     "data": {
      "text/plain": [
       "<_sre.SRE_Match object; span=(0, 1), match='a'>"
      ]
     },
     "execution_count": 22,
     "metadata": {},
     "output_type": "execute_result"
    }
   ],
   "source": [
    "import re\n",
    "print ('abcdefghijk\\n joo new line')\n",
    "re.search('^a','abcdefghkijk\\najoo new line')"
   ]
  },
  {
   "cell_type": "code",
   "execution_count": 3,
   "metadata": {},
   "outputs": [
    {
     "name": "stdout",
     "output_type": "stream",
     "text": [
      "a F1#,2w3E*\n",
      "Iam ina F1#,2w3E*\n",
      "<_sre.SRE_Match object; span=(0, 1), match='a'>\n",
      "<_sre.SRE_Match object; span=(1, 2), match=' '>\n",
      "<_sre.SRE_Match object; span=(1, 2), match=' '>\n",
      "iam the bug\n",
      "<_sre.SRE_Match object; span=(3, 4), match='1'>\n",
      "<_sre.SRE_Match object; span=(4, 5), match='#'>\n",
      "wrong pattern\n"
     ]
    }
   ],
   "source": [
    "'''A website requires the users to input username and password to register. Write a program to check the validity of password input by users.\n",
    "Following are the criteria for checking the password:\n",
    "1. At least 1 letter between [a-z]\n",
    "2. At least 1 number between [0-9]\n",
    "1. At least 1 letter between [A-Z]\n",
    "3. At least 1 character from [$#@]\n",
    "4. Minimum length of transaction password: 6\n",
    "5. Maximum length of transaction password: 12\n",
    "Your program should accept a sequence of comma separated passwords and will check them according to the above criteria. Passwords that match the criteria are to be printed, each separated by a comma.\n",
    "Example\n",
    "If the following passwords are given as input to the program:\n",
    "ABd1234@1,a F1#,2w3E*,2We3345\n",
    "Then, the output of the program should be:\n",
    "ABd1234@1\n",
    "\n",
    "'''\n",
    "import re\n",
    "stringe =input()\n",
    "\n",
    "if (len(stringe)>=6 and len(stringe)<=12):\n",
    "    print ('Iam in'+stringe)\n",
    "    print( re.search('[a-z]',stringe))\n",
    "    print( re.search('\\W+',stringe))\n",
    "    print( re.search('\\s+',stringe))\n",
    "    print('iam the bug')\n",
    "    print(re.search('[\\d]',stringe) )\n",
    "    print(re.search('\\$|#|@',stringe))\n",
    "    if re.search('[a-z]',stringe) and re.search('[\\d]',stringe) and re.search('[A-Z]',stringe) and re.search('\\$|#|\\@',stringe) and re.search('\\s+',stringe)==None :\n",
    "        print (stringe)\n",
    "    else:\n",
    "        print(\"wrong pattern\")\n"
   ]
  },
  {
   "cell_type": "code",
   "execution_count": null,
   "metadata": {},
   "outputs": [],
   "source": [
    "'''Question:\n",
    "You are required to write a program to sort the (name, age, height) tuples by ascending order where name is string, \n",
    "age and height are numbers. The tuples are input by console. The sort criteria is:\n",
    "1: Sort based on name;\n",
    "2: Then sort based on age;\n",
    "3: Then sort by score.\n",
    "The priority is that name > age > score.\n",
    "If the following tuples are given as input to the program:\n",
    "Tom,19,80\n",
    "John,20,90\n",
    "Jony,17,91\n",
    "Jony,17,93\n",
    "Json,21,85\n",
    "Then, the output of the program should be:\n",
    "[('John', '20', '90'), ('Jony', '17', '91'), ('Jony', '17', '93'), ('Json', '21', '85'), ('Tom', '19', '80')]\n",
    "'''\n",
    "\n",
    "from operator import itemgetter, attrgetter\n",
    "l = []\n",
    "while True:\n",
    "    s = input()    \n",
    "    \n",
    "    if not s:\n",
    "       break\n",
    "    l.append(tuple(s.split(\",\")))\n",
    "print(l)    \n",
    "print(sorted(l, key=itemgetter(0,1,2)))\n",
    "\n",
    "#print sorted(l, key=itemgetter(0,1,2))"
   ]
  },
  {
   "cell_type": "code",
   "execution_count": null,
   "metadata": {},
   "outputs": [],
   "source": [
    "None"
   ]
  },
  {
   "cell_type": "code",
   "execution_count": 2,
   "metadata": {},
   "outputs": [
    {
     "name": "stdout",
     "output_type": "stream",
     "text": [
      "7\n",
      "14\n",
      "21\n",
      "28\n",
      "35\n",
      "42\n",
      "49\n",
      "56\n",
      "63\n",
      "70\n",
      "77\n",
      "84\n",
      "91\n",
      "98\n"
     ]
    }
   ],
   "source": [
    "def myGen(number):\n",
    "    i=0\n",
    "    while (i<number):\n",
    "        i+=1\n",
    "        if(i%7==0):\n",
    "            yield(i)\n",
    "\n",
    "for j in myGen(100):\n",
    "    print(j)"
   ]
  },
  {
   "cell_type": "code",
   "execution_count": 1,
   "metadata": {},
   "outputs": [
    {
     "name": "stdout",
     "output_type": "stream",
     "text": [
      "1,2\n",
      "y axis-1\n"
     ]
    }
   ],
   "source": [
    "plane =input().split(',')\n",
    "print(\"y axis\"+str(int(plane[0])-int(plane[1])))\n",
    "    "
   ]
  },
  {
   "cell_type": "code",
   "execution_count": 9,
   "metadata": {},
   "outputs": [
    {
     "name": "stdout",
     "output_type": "stream",
     "text": [
      "a c d b ab ab cd\n",
      "a : 1\n",
      "ab : 2\n",
      "b : 1\n",
      "c : 1\n",
      "cd : 1\n",
      "d : 1\n"
     ]
    }
   ],
   "source": [
    "words=input().split()\n",
    "dic = {}\n",
    "\n",
    "for sp in words:\n",
    "    dic[sp]=dic.get(sp,0)+1\n",
    "   \n",
    "a=[]\n",
    "for i in dic.keys():\n",
    "    a.append(i)\n",
    "\n",
    "a.sort()    \n",
    "\n",
    "for wo in a:\n",
    "    print(wo +\": \" +str(dic.get(wo)))\n",
    "    \n",
    "\n",
    "\n",
    "\n",
    "    "
   ]
  },
  {
   "cell_type": "code",
   "execution_count": 14,
   "metadata": {},
   "outputs": [
    {
     "name": "stdout",
     "output_type": "stream",
     "text": [
      "9\n",
      "81\n"
     ]
    }
   ],
   "source": [
    "'''Question 23\n",
    "level 1\n",
    "\n",
    "Question:\n",
    "    Write a method which can calculate square value of number\n",
    "\n",
    "'''\n",
    "def square (a):\n",
    "    return a**2\n",
    "\n",
    "print(square(int(input())))\n",
    "\n",
    "    "
   ]
  },
  {
   "cell_type": "code",
   "execution_count": 16,
   "metadata": {},
   "outputs": [
    {
     "name": "stdout",
     "output_type": "stream",
     "text": [
      "Return the absolute value of the argument.\n",
      "Return the absolute value of the argument.\n",
      "int(x=0) -> integer\n",
      "int(x, base=10) -> integer\n",
      "\n",
      "Convert a number or string to an integer, or return 0 if no arguments\n",
      "are given.  If x is a number, return x.__int__().  For floating point\n",
      "numbers, this truncates towards zero.\n",
      "\n",
      "If x is not a number or if base is given, then x must be a string,\n",
      "bytes, or bytearray instance representing an integer literal in the\n",
      "given base.  The literal can be preceded by '+' or '-' and be surrounded\n",
      "by whitespace.  The base defaults to 10.  Valid bases are 0 and 2-36.\n",
      "Base 0 means to interpret the base from the string as an integer literal.\n",
      ">>> int('0b100', base=0)\n",
      "4\n",
      "Forward raw_input to frontends\n",
      "\n",
      "        Raises\n",
      "        ------\n",
      "        StdinNotImplentedError if active frontend doesn't support stdin.\n",
      "        \n",
      "4\n",
      "Return the square value of the input number.\n",
      "    \n",
      "    The input number must be integer.\n",
      "    \n"
     ]
    }
   ],
   "source": [
    "print(abs.__doc__)\n",
    "print( abs.__doc__)\n",
    "print (int.__doc__)\n",
    "print (input.__doc__)\n",
    "\n",
    "def square(num):\n",
    "    '''Return the square value of the input number.\n",
    "    \n",
    "    The input number must be integer.\n",
    "    '''\n",
    "    return num ** 2\n",
    "\n",
    "print (square(2))\n",
    "print (square.__doc__)"
   ]
  },
  {
   "cell_type": "code",
   "execution_count": 40,
   "metadata": {},
   "outputs": [
    {
     "name": "stdout",
     "output_type": "stream",
     "text": [
      "ahmer\n",
      "ahmerThis is the name\n",
      "omer\n",
      "omer\n",
      "danish\n"
     ]
    }
   ],
   "source": [
    "'''Question 25\n",
    "Level 1\n",
    "\n",
    "Question:\n",
    "    Define a class, which have a class parameter and have a same instance parameter.\n",
    "\n",
    "Hints:\n",
    "    Define a instance parameter, need add it in __init__ method\n",
    "    You can init a object with construct parameter or set the value later\n",
    "'''\n",
    "\n",
    "\n",
    "class myClass:\n",
    "    name1='This is the name'\n",
    "    def __init__(self, name=None):\n",
    "    \n",
    "        self.name1=name\n",
    "        print(name)\n",
    "        \n",
    "        \n",
    "a= myClass('ahmer');   \n",
    "print(a.name1+ myClass.name1)\n",
    "b=myClass('omer')\n",
    "print(b.name1)\n",
    "b.name1=\"danish\"\n",
    "print(b.name1)"
   ]
  },
  {
   "cell_type": "code",
   "execution_count": 43,
   "metadata": {},
   "outputs": [
    {
     "name": "stdout",
     "output_type": "stream",
     "text": [
      "23\n"
     ]
    },
    {
     "data": {
      "text/plain": [
       "23"
      ]
     },
     "execution_count": 43,
     "metadata": {},
     "output_type": "execute_result"
    }
   ],
   "source": [
    "'''Question:\n",
    "Define a function which can compute the sum of two numbers.\n",
    "\n",
    "Hints:\n",
    "Define a function with two numbers as arguments. You can compute the sum in the function and return the value.\n",
    "\n",
    "Solution\n",
    "def SumFunction(number1, number2):\n",
    "\treturn number1+number2\n",
    "\n",
    "print SumFunction(1,2)\n",
    "'''\n",
    "\n",
    "def __funcAdd__(a,a1):\n",
    "    print(a+a1)\n",
    "    return a+a1\n",
    "\n",
    "funcAdd(10,13)"
   ]
  },
  {
   "cell_type": "code",
   "execution_count": 52,
   "metadata": {},
   "outputs": [
    {
     "name": "stdout",
     "output_type": "stream",
     "text": [
      "adf\n"
     ]
    }
   ],
   "source": [
    "'''Question:\n",
    "Define a function that can convert a integer into a string and print it in console.\n",
    "\n",
    "Hints:\n",
    "\n",
    "Use str() to convert a number to string.\n",
    "'''\n",
    "\n",
    "def conver(integer=0):\n",
    "   \n",
    "    \n",
    "    return str(integer)\n",
    "\n",
    "print(conver('adf'))\n"
   ]
  },
  {
   "cell_type": "code",
   "execution_count": 58,
   "metadata": {},
   "outputs": [
    {
     "name": "stdout",
     "output_type": "stream",
     "text": [
      "23\n"
     ]
    }
   ],
   "source": [
    "def sTn(a1, a2, a3):\n",
    "    \n",
    "    print(int(a1)+int(a2))\n",
    "    \n",
    "sTn( '12',a3='111', a2='11' )    "
   ]
  },
  {
   "cell_type": "code",
   "execution_count": 59,
   "metadata": {},
   "outputs": [
    {
     "name": "stdout",
     "output_type": "stream",
     "text": [
      "1211\n"
     ]
    }
   ],
   "source": [
    "'''2.10\n",
    "\n",
    "\n",
    "Question:\n",
    "Define a function that can accept two strings as input and concatenate them and then print it in console.\n",
    "\n",
    "Hints:\n",
    "'''\n",
    "def sTn(a1, a2):\n",
    "    \n",
    "    print(a1+a2)\n",
    "    \n",
    "sTn( '12', a2='11' )    "
   ]
  },
  {
   "cell_type": "code",
   "execution_count": 72,
   "metadata": {},
   "outputs": [
    {
     "name": "stdout",
     "output_type": "stream",
     "text": [
      "akkc\n",
      "dega\n"
     ]
    }
   ],
   "source": [
    "'''Define a function that can accept two strings as input and print the string with maximum length in console.\n",
    "If two strings have the same length, then the function should print al l strings line by line.\n",
    "'''\n",
    "\n",
    "\n",
    "def longcourse(a,b):\n",
    "    if(len(a)>len(b) & len(a)!=len(b)):\n",
    "        print(a)\n",
    "    elif(len(a)<len(b) & len(a)!=len(b)):\n",
    "        print(b)\n",
    "    else:\n",
    "        print(a)\n",
    "        print(b)\n",
    "        \n",
    "longcourse('akkc', 'dega')        \n",
    "       "
   ]
  },
  {
   "cell_type": "code",
   "execution_count": 74,
   "metadata": {},
   "outputs": [
    {
     "name": "stdout",
     "output_type": "stream",
     "text": [
      "3\n",
      "number is ood\n"
     ]
    }
   ],
   "source": [
    "'''Define a function that can accept an integer number as input and print the \n",
    "\"It is an even number\" if the number is even, otherwise print \"It is an odd number\".\n",
    "'''\n",
    "def evenSearch(number):\n",
    "    if number%2==0:\n",
    "        (print('number is even'))\n",
    "    else:\n",
    "            print('number is ood')\n",
    "            \n",
    "evenSearch(int(input()))            \n"
   ]
  },
  {
   "cell_type": "code",
   "execution_count": 2,
   "metadata": {},
   "outputs": [
    {
     "name": "stdout",
     "output_type": "stream",
     "text": [
      "{1: 1, 2: 4, 3: 9}\n"
     ]
    }
   ],
   "source": [
    "'''Question:\n",
    "Define a function which can print a dictionary where the keys are numbers \n",
    "between 1 and 3 (both included) and the values are square of keys.\n",
    "\n",
    "def dic2 ():\n",
    "    dic={i, i**2  for i in range (1,4)}\n",
    "    print (dic)\n",
    "    \n",
    "dic2()    '''\n",
    "\n",
    "def dic2 ():\n",
    "   dict2= {i:i**2 for i in range (1,4)}\n",
    "        \n",
    "   print (dict2)\n",
    "dic2()    "
   ]
  },
  {
   "cell_type": "code",
   "execution_count": 3,
   "metadata": {},
   "outputs": [
    {
     "name": "stdout",
     "output_type": "stream",
     "text": [
      "{1: 1, 2: 4, 3: 9, 4: 16, 5: 25, 6: 36, 7: 49, 8: 64, 9: 81, 10: 100, 11: 121, 12: 144, 13: 169, 14: 196, 15: 225, 16: 256, 17: 289, 18: 324, 19: 361, 20: 400}\n"
     ]
    }
   ],
   "source": [
    "'''Question:\n",
    "Define a function which can print a dictionary where the keys are numbers between 1 and 20 (both included) and the values are square of keys.\n",
    "\n",
    "Hints:\n",
    "\n",
    "Use dict[key]=value pattern to put entry into a dictionary.\n",
    "Use ** operator to get power of a number.\n",
    "Use range() for loops.\n",
    "'''\n",
    "\n",
    "print({i:i**2 for i in range (1,21)})"
   ]
  },
  {
   "cell_type": "code",
   "execution_count": 20,
   "metadata": {},
   "outputs": [
    {
     "name": "stdout",
     "output_type": "stream",
     "text": [
      "[1, 4, 9, 16, 25]\n"
     ]
    }
   ],
   "source": [
    "'''Question:\n",
    "Define a function which can generate and print a list where the values are square of numbers between 1 and 20 (both included).\n",
    "\n",
    "Hints:\n",
    "\n",
    "Use ** operator to get power of a number.\n",
    "Use range() for loops.\n",
    "Use list.append() to add values into a list.\n",
    "\n",
    "'''\n",
    "\n",
    "print([i**2 for i in range(1,21)])"
   ]
  },
  {
   "cell_type": "code",
   "execution_count": 21,
   "metadata": {},
   "outputs": [
    {
     "name": "stdout",
     "output_type": "stream",
     "text": [
      "[1, 4, 9, 16, 25]\n"
     ]
    }
   ],
   "source": [
    "'''Question:\n",
    "Define a function which can generate a list where the values are square of numbers between 1 and 20 (both included). \n",
    "Then the function needs to print the first 5 elements in the list.'''\n",
    "\n",
    "def nn():\n",
    "    print(([i**2 for i in range(1,21)])[:5])\n",
    "nn()    "
   ]
  },
  {
   "cell_type": "code",
   "execution_count": 60,
   "metadata": {},
   "outputs": [
    {
     "name": "stdout",
     "output_type": "stream",
     "text": [
      "ahpla\n"
     ]
    }
   ],
   "source": [
    "a='alpha'\n",
    "print (a[::-1])"
   ]
  },
  {
   "cell_type": "code",
   "execution_count": 27,
   "metadata": {},
   "outputs": [
    {
     "name": "stdout",
     "output_type": "stream",
     "text": [
      "[256, 289, 324, 361, 400]\n"
     ]
    }
   ],
   "source": [
    "'''\n",
    "Question:\n",
    "Define a function which can generate a list where the values are square of numbers between 1 and 20 (both included). \n",
    "Then the function needs to print the last 5 elements in the list.\n",
    "\n",
    "\n",
    "\n",
    "sequence[start:end:step]\n",
    "'''\n",
    "\n",
    "def last():\n",
    "    print([i**2 for i in range (1,21)][-5:20])\n",
    "    \n",
    "last()"
   ]
  },
  {
   "cell_type": "code",
   "execution_count": 28,
   "metadata": {},
   "outputs": [],
   "source": [
    "'''Define a function which can generate a list where the values are square of numbers between 1 and 20 (both included). \n",
    "Then the function needs to print all values except the first 5 elements in the list.'''\n",
    "\n",
    "def fun():\n",
    "    print([i**2 for i in range (0,21)][5])"
   ]
  },
  {
   "cell_type": "code",
   "execution_count": 3,
   "metadata": {},
   "outputs": [
    {
     "name": "stdout",
     "output_type": "stream",
     "text": [
      "(1, 4, 9, 16, 25, 36, 49, 64, 81, 100, 121, 144, 169, 196, 225, 256, 289, 324, 361, 400)\n"
     ]
    }
   ],
   "source": [
    "'''Define a function which can generate and print a tuple where the value are square of numbers \n",
    "between 1 and 20 (both included). \n",
    "'''\n",
    "\n",
    "def getTup():\n",
    "    print (tuple([i**2 for i in range(1,21)]))\n",
    "    \n",
    "getTup()    "
   ]
  },
  {
   "cell_type": "code",
   "execution_count": 7,
   "metadata": {},
   "outputs": [
    {
     "name": "stdout",
     "output_type": "stream",
     "text": [
      "(1, 2, 3, 4, 5)\n",
      "(6, 7, 8, 9, 10)\n"
     ]
    }
   ],
   "source": [
    "'''With a given tuple (1,2,3,4,5,6,7,8,9,10), write a program to print the first half \n",
    "values in one line and the last half values in one line. \n",
    "'''\n",
    "a =(1,2,3,4,5,6,7,8,9,10)\n",
    "print(a[:5])\n",
    "print(a[-5:])"
   ]
  },
  {
   "cell_type": "code",
   "execution_count": 20,
   "metadata": {},
   "outputs": [
    {
     "name": "stdout",
     "output_type": "stream",
     "text": [
      "(2, 4, 6, 8, 10)\n"
     ]
    }
   ],
   "source": [
    "'''Write a program to generate and print another tuple whose values are even numbers in \n",
    "the given tuple (1,2,3,4,5,6,7,8,9,10). \n",
    "'''\n",
    "a =(1,2,3,4,5,6,7,8,9,10)\n",
    "\n",
    "print(tuple(([i   for i in a if i%2==0])))\n"
   ]
  },
  {
   "cell_type": "code",
   "execution_count": 20,
   "metadata": {},
   "outputs": [
    {
     "name": "stdout",
     "output_type": "stream",
     "text": [
      "2\n",
      "4\n",
      "6\n",
      "8\n",
      "10\n"
     ]
    }
   ],
   "source": [
    "'''Write a program which can filter even numbers in a list by \n",
    "using filter function. The list is: [1,2,3,4,5,6,7,8,9,10].\n",
    "'''\n",
    "even=[1,2,3,4,5,6,7,8,9,10]\n",
    "#l=lambda x: x%2\n",
    "\n",
    "\n",
    "l=filter(lambda x: x%2==0, even)\n",
    "for j in l:\n",
    "    print(j)\n"
   ]
  },
  {
   "cell_type": "code",
   "execution_count": 23,
   "metadata": {},
   "outputs": [
    {
     "name": "stdout",
     "output_type": "stream",
     "text": [
      "1\n",
      "4\n",
      "9\n",
      "16\n",
      "25\n",
      "36\n",
      "49\n",
      "64\n",
      "81\n",
      "100\n"
     ]
    }
   ],
   "source": [
    "'''Write a program which can map() to make a list whose elements are square of elements in [1,2,3,4,5,6,7,8,9,10].\n",
    "'''\n",
    "even=[1,2,3,4,5,6,7,8,9,10]\n",
    "m=map(lambda a: a**2, even)\n",
    "for mp in m:\n",
    "    print (mp)\n"
   ]
  },
  {
   "cell_type": "code",
   "execution_count": 25,
   "metadata": {},
   "outputs": [
    {
     "name": "stdout",
     "output_type": "stream",
     "text": [
      "4\n",
      "16\n",
      "36\n",
      "64\n",
      "100\n"
     ]
    }
   ],
   "source": [
    "'''Question:\n",
    "Write a program which can map() and filter() \n",
    "to make a list whose elements are square of even number in [1,2,3,4,5,6,7,8,9,10].'''\n",
    "\n",
    "even=[1,2,3,4,5,6,7,8,9,10]\n",
    "square = map(lambda x: x**2, even)\n",
    "\n",
    "filt=filter(lambda x: x%2==0, square)\n",
    "\n",
    "for f in filt:\n",
    "    print(f)"
   ]
  },
  {
   "cell_type": "code",
   "execution_count": 12,
   "metadata": {},
   "outputs": [
    {
     "name": "stdout",
     "output_type": "stream",
     "text": [
      "1\n",
      "1\n",
      "america\n",
      "america\n"
     ]
    }
   ],
   "source": [
    "'''Question:\n",
    "Define a class named American which has a static method called printNationality.'''\n",
    "\n",
    "class sta(object):\n",
    "    def __init__(self):\n",
    "        print (1)\n",
    "    @staticmethod\n",
    "    def printNationality():\n",
    "        print(\"america\")\n",
    "        \n",
    "a= sta()\n",
    "\n",
    "\n",
    "a.printNationality()\n",
    "sta.printNationality()"
   ]
  },
  {
   "cell_type": "code",
   "execution_count": 35,
   "metadata": {},
   "outputs": [
    {
     "name": "stdout",
     "output_type": "stream",
     "text": [
      "3rd\n",
      "kid\n",
      "None\n",
      "4rd\n",
      "iam child\n",
      "kid\n",
      "None\n"
     ]
    }
   ],
   "source": [
    "'''Question:\n",
    "Define a class named American and its subclass NewYorker. \n",
    "'''\n",
    "\n",
    "class Ameria:\n",
    "    ame=\"got it\"\n",
    "    inte=23\n",
    "def natio():\n",
    "    print ('kid')\n",
    "    \n",
    "    \n",
    "class NewYork(Ameria):\n",
    "    ame='iam child'\n",
    "    def natio():\n",
    "        print ('kid')\n",
    "    \n",
    "    ny= NewYork\n",
    "    aM=Ameria\n",
    "    print('3rd')\n",
    "    print(ny.natio())\n",
    "    aM=ny\n",
    "    print('4rd')\n",
    "    print(aM.ame)\n",
    "    print(aM.natio())\n",
    "    \n",
    "   # print(aM.ame)"
   ]
  },
  {
   "cell_type": "code",
   "execution_count": 48,
   "metadata": {},
   "outputs": [
    {
     "name": "stdout",
     "output_type": "stream",
     "text": [
      "12.566370614359172\n"
     ]
    }
   ],
   "source": [
    "'''Define a class named Circle which can be constructed by a radius. \n",
    "The Circle class has a method which can compute the area.'''\n",
    "import math\n",
    "class Circle:\n",
    "    \n",
    "    def __init__(self, radius):\n",
    "       self.rad=radius\n",
    "\n",
    "    def area(self):\n",
    "        return math.pi * (self.rad **2)\n",
    "\n",
    "circle = Circle(2)\n",
    "print (circle.area())\n"
   ]
  },
  {
   "cell_type": "code",
   "execution_count": 15,
   "metadata": {},
   "outputs": [
    {
     "name": "stdout",
     "output_type": "stream",
     "text": [
      "200\n"
     ]
    }
   ],
   "source": [
    "'''Define a class named Rectangle which can be constructed by a length and width.\n",
    "The Rectangle class has a method which can compute the area. \n",
    "'''\n",
    "\n",
    "class Rectangle:\n",
    "    \n",
    "    def __init__(self, w, h):\n",
    "        self.width=w\n",
    "        self.height=h\n",
    "    \n",
    "    def areaS(self):\n",
    "        return self.width * self.height\n",
    "        \n",
    "rec= Rectangle(20,10)  \n",
    "print(rec.areaS())"
   ]
  },
  {
   "cell_type": "code",
   "execution_count": 14,
   "metadata": {},
   "outputs": [],
   "source": [
    "'''Define a class named Shape and its subclass Square. The Square class has an init \n",
    "function which takes a length as argument. Both classes have a area function \n",
    "which can print the area of the shape where Shape's area is 0 by default.\n",
    "\n",
    "Hints:\n",
    "\n",
    "To override a method in super class, we can define a method with the same name in the super class.\n",
    "'''\n",
    "\n",
    "\n",
    "class Shape:\n",
    "    def area(widht=0, height=0)\n",
    "    \n",
    "    \n",
    "    "
   ]
  },
  {
   "cell_type": "code",
   "execution_count": 3,
   "metadata": {},
   "outputs": [
    {
     "ename": "TypeError",
     "evalue": "exceptions must derive from BaseException",
     "output_type": "error",
     "traceback": [
      "\u001b[1;31m---------------------------------------------------------------------------\u001b[0m",
      "\u001b[1;31mTypeError\u001b[0m                                 Traceback (most recent call last)",
      "\u001b[1;32m<ipython-input-3-5c64a0c29d83>\u001b[0m in \u001b[0;36m<module>\u001b[1;34m()\u001b[0m\n\u001b[0;32m      9\u001b[0m raise RuntimeError('something wrong')'''\n\u001b[0;32m     10\u001b[0m \u001b[1;33m\u001b[0m\u001b[0m\n\u001b[1;32m---> 11\u001b[1;33m \u001b[1;32mraise\u001b[0m \u001b[1;33m(\u001b[0m\u001b[1;34m'sl'\u001b[0m\u001b[1;33m)\u001b[0m\u001b[1;33m\u001b[0m\u001b[0m\n\u001b[0m",
      "\u001b[1;31mTypeError\u001b[0m: exceptions must derive from BaseException"
     ]
    }
   ],
   "source": [
    "'''Please raise a RuntimeError exception.\n",
    "\n",
    "Hints:\n",
    "\n",
    "Use raise() to raise an exception.\n",
    "\n",
    "Solution:\n",
    "\n",
    "raise RuntimeError('something wrong')'''\n",
    "\n",
    "raise ('sl')"
   ]
  },
  {
   "cell_type": "code",
   "execution_count": null,
   "metadata": {},
   "outputs": [],
   "source": []
  }
 ],
 "metadata": {
  "kernelspec": {
   "display_name": "Python 3",
   "language": "python",
   "name": "python3"
  },
  "language_info": {
   "codemirror_mode": {
    "name": "ipython",
    "version": 3
   },
   "file_extension": ".py",
   "mimetype": "text/x-python",
   "name": "python",
   "nbconvert_exporter": "python",
   "pygments_lexer": "ipython3",
   "version": "3.6.5"
  }
 },
 "nbformat": 4,
 "nbformat_minor": 2
}
