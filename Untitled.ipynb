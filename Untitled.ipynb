{
 "cells": [
  {
   "cell_type": "code",
   "execution_count": 1,
   "metadata": {},
   "outputs": [
    {
     "name": "stdout",
     "output_type": "stream",
     "text": [
      "[2002, 2009, 2016, 2023, 2037, 2044, 2051, 2058, 2072, 2079, 2086, 2093, 2107, 2114, 2121, 2128, 2142, 2149, 2156, 2163, 2177, 2184, 2191, 2198, 2212, 2219, 2226, 2233, 2247, 2254, 2261, 2268, 2282, 2289, 2296, 2303, 2317, 2324, 2331, 2338, 2352, 2359, 2366, 2373, 2387, 2394, 2401, 2408, 2422, 2429, 2436, 2443, 2457, 2464, 2471, 2478, 2492, 2499, 2506, 2513, 2527, 2534, 2541, 2548, 2562, 2569, 2576, 2583, 2597, 2604, 2611, 2618, 2632, 2639, 2646, 2653, 2667, 2674, 2681, 2688, 2702, 2709, 2716, 2723, 2737, 2744, 2751, 2758, 2772, 2779, 2786, 2793, 2807, 2814, 2821, 2828, 2842, 2849, 2856, 2863, 2877, 2884, 2891, 2898, 2912, 2919, 2926, 2933, 2947, 2954, 2961, 2968, 2982, 2989, 2996, 3003, 3017, 3024, 3031, 3038, 3052, 3059, 3066, 3073, 3087, 3094, 3101, 3108, 3122, 3129, 3136, 3143, 3157, 3164, 3171, 3178, 3192, 3199]\n"
     ]
    }
   ],
   "source": [
    "'''\n",
    "Question:\n",
    "Write a program which will find all such numbers which are divisible by 7 but are not a multiple of 5,\n",
    "between 2000 and 3200 (both included).\n",
    "The numbers obtained should be printed in a comma-separated sequence on a single line.''\n",
    "'''\n",
    "\n",
    "\n",
    "list1=[x for x in range(1999,3201) if (x%7== 0) and x%5!=0  ]\n",
    "print( list1)\n"
   ]
  },
  {
   "cell_type": "code",
   "execution_count": null,
   "metadata": {},
   "outputs": [],
   "source": [
    "'''\n",
    "Question 2\n",
    "Level 1\n",
    "\n",
    "Question:\n",
    "Write a program which can compute the factorial of a given numbers.\n",
    "The results should be printed in a comma-separated sequence on a single line.\n",
    "Suppose the following input is supplied to the program:\n",
    "8\n",
    "Then, the output should be:\n",
    "40320\n",
    "'''\n",
    "\n",
    "#fac=[y for y in range(int(input())): print(y)]\n",
    "\n",
    "num=int(input())\n",
    "\n",
    "for y in range(-num+1,0):\n",
    "    num*=y  \n",
    "print(num)\n",
    "\n",
    "\n",
    "d=dict()\n",
    "snum=1\n",
    "\n",
    "n=int(input())\n",
    "d=dict()\n",
    "for i in range(1,n+1):\n",
    "    d[i]=i*i\n",
    "    snum*= d[i]\n",
    "print (d)\n",
    "print (snum)"
   ]
  },
  {
   "cell_type": "code",
   "execution_count": null,
   "metadata": {},
   "outputs": [],
   "source": [
    "'''Question 4\n",
    "Level 1\n",
    "\n",
    "Question:\n",
    "Write a program which accepts a sequence of comma-separated numbers from console and generate a list and a tuple which contains every number.\n",
    "Suppose the following input is supplied to the program:\n",
    "34,67,55,33,12,98\n",
    "Then, the output should be:\n",
    "['34', '67', '55', '33', '12', '98']\n",
    "('34', '67', '55', '33', '12', '98')\n",
    "'''\n",
    "\n",
    "newTuple =(input())\n",
    "sepList=newTuple.split(\",\")\n",
    "sepTup=tuple(sepList)\n",
    "print (sepList)\n",
    "print (sepTup)"
   ]
  },
  {
   "cell_type": "code",
   "execution_count": null,
   "metadata": {},
   "outputs": [],
   "source": [
    "\n",
    "class Person:\n",
    "    a=10\n",
    "    def __init__(mysillyobject, name, age):\n",
    "        mysillyobject.a = age\n",
    "        mysillyobject.age = age\n",
    "        \n",
    "\n",
    "        \n",
    "    def myfunc(self):\n",
    "            print(\"Hello my name is \" + str(self.a))\n",
    "\n",
    "p1 = Person(\"John\", 36)\n",
    "p1.myfunc()\n",
    "p2 = Person(\"John11\", 3633)\n",
    "p2.myfunc()\n",
    "print (p2.a)\n",
    "p2.myfunc()"
   ]
  },
  {
   "cell_type": "code",
   "execution_count": null,
   "metadata": {},
   "outputs": [],
   "source": [
    "class InputOutString(object):\n",
    "    \n",
    "    s=\"instantiate me\"\n",
    "    \n",
    "    def __init__(self):\n",
    "            s=\"\"\n",
    "\n",
    "    def getString(self):\n",
    "        self.s = input()\n",
    "\n",
    "    def printString(self):\n",
    "        print (self.s.upper())\n",
    "\n",
    "a = InputOutString()\n",
    "a.getString()\n",
    "a.printString()"
   ]
  },
  {
   "cell_type": "code",
   "execution_count": null,
   "metadata": {},
   "outputs": [],
   "source": [
    "'''Question 6\n",
    "Level 2\n",
    "\n",
    "Question:\n",
    "Write a program that calculates and prints the value according to the given formula:\n",
    "Q = Square root of [(2 * C * D)/H]\n",
    "Following are the fixed values of C and H:\n",
    "C is 50. H is 30.\n",
    "D is the variable whose values should be input to your program in a comma-separated sequence.\n",
    "Example\n",
    "Let us assume the following comma separated input sequence is given to the program:\n",
    "100,150,180\n",
    "The output of the program should be:\n",
    "18,22,24'''\n",
    "\n",
    "\n",
    "import math\n",
    "\n",
    "list_of=input()\n",
    "new =[]\n",
    "c=50\n",
    "d=list_of.split(\",\")\n",
    "h=30\n",
    "\n",
    "new=[round(math.sqrt((2*c*int(i))/h)) for i in d]\n",
    "     \n",
    "   \n",
    "    \n",
    "\n",
    "print(new)"
   ]
  },
  {
   "cell_type": "code",
   "execution_count": null,
   "metadata": {},
   "outputs": [],
   "source": [
    "'''Question:\n",
    "Write a program which takes 2 digits, X,Y as input and generates a 2-dimensional array. The element value in the i-th row and j-th column of the array should be i*j.\n",
    "Note: i=0,1.., X-1; j=0,1,¡­Y-1.\n",
    "Example\n",
    "Suppose the following inputs are given to the program:\n",
    "3,5\n",
    "Then, the output of the program should be:\n",
    "[[0, 0, 0, 0, 0], [0, 1, 2, 3, 4], [0, 2, 4, 6, 8]] \n",
    "\n",
    "Hints:\n",
    "Note: In case of input data being supplied to the question, it should be assumed to be a console input in a comma-separated form.\n",
    "'''"
   ]
  },
  {
   "cell_type": "code",
   "execution_count": 11,
   "metadata": {},
   "outputs": [
    {
     "name": "stdout",
     "output_type": "stream",
     "text": [
      "4\n",
      "5\n",
      "[[0, 0, 0, 0, 0], [0, 1, 2, 3, 4], [0, 2, 4, 6, 8], [0, 3, 6, 9, 12]]\n"
     ]
    }
   ],
   "source": [
    "li=[]\n",
    "x=int(input())\n",
    "y=int(input())\n",
    "li= [[i*j for i in range(y)]  for j in range (x)]\n",
    "\n",
    "print (li)"
   ]
  },
  {
   "cell_type": "code",
   "execution_count": 12,
   "metadata": {},
   "outputs": [
    {
     "data": {
      "text/plain": [
       "'Question 8\\nLevel 2\\n\\nQuestion:\\nWrite a program that accepts a comma separated sequence of words as input and prints the words in a comma-separated sequence after sorting them alphabetically.\\nSuppose the following input is supplied to the program:\\nwithout,hello,bag,world\\nThen, the output should be:\\nbag,hello,without,world\\n'"
      ]
     },
     "execution_count": 12,
     "metadata": {},
     "output_type": "execute_result"
    }
   ],
   "source": [
    "'''Question 8\n",
    "Level 2\n",
    "\n",
    "Question:\n",
    "Write a program that accepts a comma separated sequence of words as input and prints the words in a comma-separated sequence after sorting them alphabetically.\n",
    "Suppose the following input is supplied to the program:\n",
    "without,hello,bag,world\n",
    "Then, the output should be:\n",
    "bag,hello,without,world\n",
    "'''"
   ]
  },
  {
   "cell_type": "code",
   "execution_count": null,
   "metadata": {},
   "outputs": [],
   "source": [
    "stringer=input().split(\",\")\n",
    "stringer.sort()\n",
    "print (stringer)"
   ]
  },
  {
   "cell_type": "code",
   "execution_count": 12,
   "metadata": {},
   "outputs": [
    {
     "name": "stdout",
     "output_type": "stream",
     "text": [
      "kl\n",
      "hkjhk\n",
      "\n",
      "KL\n",
      "HKJHK\n"
     ]
    },
    {
     "data": {
      "text/plain": [
       "[None, None]"
      ]
     },
     "execution_count": 12,
     "metadata": {},
     "output_type": "execute_result"
    }
   ],
   "source": [
    "'''Question 9\n",
    "Level 2\n",
    "\n",
    "Question£º\n",
    "Write a program that accepts sequence of lines as input and prints the lines after making all characters in the sentence capitalized.\n",
    "Suppose the following input is supplied to the program:\n",
    "Hello world\n",
    "Practice makes perfect\n",
    "Then, the output should be:\n",
    "HELLO WORLD\n",
    "PRACTICE MAKES PERFECT\n",
    "'''\n",
    "\n",
    "listl=[]\n",
    "while True:\n",
    "    stringer2=input()\n",
    "    if stringer2:\n",
    "        listl.append(stringer2.upper())\n",
    "        \n",
    "    else:\n",
    "        break\n",
    "        \n",
    "[print(listl[i]) for i in range(0,len(listl))]\n",
    "         \n"
   ]
  },
  {
   "cell_type": "code",
   "execution_count": 23,
   "metadata": {},
   "outputs": [
    {
     "name": "stdout",
     "output_type": "stream",
     "text": [
      "hello world and practice makes perfect and hello world again\n",
      "['hello', 'world', 'and', 'practice', 'makes', 'perfect', 'and', 'hello', 'world', 'again']\n",
      "['again', 'and', 'hello', 'makes', 'perfect', 'practice', 'world']\n"
     ]
    }
   ],
   "source": [
    "'''Level 2\n",
    "\n",
    "Question:\n",
    "Write a program that accepts a sequence of whitespace separated words as input and prints the words after removing all duplicate words and sorting them alphanumerically.\n",
    "Suppose the following input is supplied to the program:\n",
    "hello world and practice makes perfect and hello world again\n",
    "Then, the output should be:\n",
    "again and hello makes perfect practice world\n",
    "\n",
    "Hints:\n",
    "In case of input data being supplied to the question, it should be assumed to be a console input.\n",
    "We use set container to remove duplicated data automatically and then use sorted() to sort the data.\n",
    "'''\n",
    "\n",
    "\n",
    "\n",
    "stringer2=input()\n",
    "list_10=stringer2.split(' ')\n",
    "print (list_10)\n",
    "aa=list(set(list_10))\n",
    "aa.sort()\n",
    "print(aa)"
   ]
  },
  {
   "cell_type": "code",
   "execution_count": 15,
   "metadata": {},
   "outputs": [
    {
     "name": "stdout",
     "output_type": "stream",
     "text": [
      "0100,0011,1010,1001\n",
      "1010\n"
     ]
    }
   ],
   "source": [
    "'''Write a program which accepts a sequence of comma separated 4 digit binary numbers as its input and then check whether they are divisible by 5 or not. The numbers that are divisible by 5 are to be printed in a comma separated sequence.\n",
    "Example:\n",
    "0100,0011,1010,1001\n",
    "Then the output should be:\n",
    "1010\n",
    "Notes: Assume the data is input by console.\n",
    "'''\n",
    "stringer3=[int(x) for x in input().split(',')]\n",
    "numberst=''\n",
    "\n",
    "for j in stringer3:\n",
    "    if j%5==0: \n",
    "        numberst+=\"1\"\n",
    "    else: \n",
    "        numberst+='0'\n",
    "\n",
    "print(numberst)        "
   ]
  },
  {
   "cell_type": "code",
   "execution_count": 46,
   "metadata": {},
   "outputs": [
    {
     "name": "stdout",
     "output_type": "stream",
     "text": [
      "1001\n",
      "['2000', '2002', '2004', '2006', '2008', '2020', '2022', '2024', '2026', '2028', '2040', '2042', '2044', '2046', '2048', '2060', '2062', '2064', '2066', '2068', '2080', '2082', '2084', '2086', '2088', '2200', '2202', '2204', '2206', '2208', '2220', '2222', '2224', '2226', '2228', '2240', '2242', '2244', '2246', '2248', '2260', '2262', '2264', '2266', '2268', '2280', '2282', '2284', '2286', '2288', '2400', '2402', '2404', '2406', '2408', '2420', '2422', '2424', '2426', '2428', '2440', '2442', '2444', '2446', '2448', '2460', '2462', '2464', '2466', '2468', '2480', '2482', '2484', '2486', '2488', '2600', '2602', '2604', '2606', '2608', '2620', '2622', '2624', '2626', '2628', '2640', '2642', '2644', '2646', '2648', '2660', '2662', '2664', '2666', '2668', '2680', '2682', '2684', '2686', '2688', '2800', '2802', '2804', '2806', '2808', '2820', '2822', '2824', '2826', '2828', '2840', '2842', '2844', '2846', '2848', '2860', '2862', '2864', '2866', '2868', '2880', '2882', '2884', '2886', '2888']\n"
     ]
    }
   ],
   "source": [
    "'''Write a program, which will find all such numbers between 1000 and 3000 (both included) such that each digit of the number is an even number.\n",
    "The numbers obtained should be printed in a comma-separated sequence on a single line.\n",
    "\\\n",
    "Hints:\n",
    "In case of input data being supplied to the question, it should be assumed to be a console input.\n",
    "'''\n",
    "lis=[]\n",
    "evenL=[str(even) for even in range(1000,3001,2)]\n",
    "\n",
    "for i in evenL:\n",
    "\n",
    "    for j in i:\n",
    "        num=int(j)%2\n",
    "        if num>0 :\n",
    "            lis.append(i)\n",
    "            break\n",
    "\n",
    "\n",
    "            \n",
    "sor=set(evenL)-set(lis)\n",
    "print(sorted(list(sor)))"
   ]
  },
  {
   "cell_type": "code",
   "execution_count": 3,
   "metadata": {},
   "outputs": [
    {
     "name": "stdout",
     "output_type": "stream",
     "text": [
      "2000,2002,2004,2006,2008,2020,2022,2024,2026,2028,2040,2042,2044,2046,2048,2060,2062,2064,2066,2068,2080,2082,2084,2086,2088,2200,2202,2204,2206,2208,2220,2222,2224,2226,2228,2240,2242,2244,2246,2248,2260,2262,2264,2266,2268,2280,2282,2284,2286,2288,2400,2402,2404,2406,2408,2420,2422,2424,2426,2428,2440,2442,2444,2446,2448,2460,2462,2464,2466,2468,2480,2482,2484,2486,2488,2600,2602,2604,2606,2608,2620,2622,2624,2626,2628,2640,2642,2644,2646,2648,2660,2662,2664,2666,2668,2680,2682,2684,2686,2688,2800,2802,2804,2806,2808,2820,2822,2824,2826,2828,2840,2842,2844,2846,2848,2860,2862,2864,2866,2868,2880,2882,2884,2886,2888\n"
     ]
    }
   ],
   "source": [
    "\n"
   ]
  },
  {
   "cell_type": "code",
   "execution_count": 15,
   "metadata": {},
   "outputs": [
    {
     "name": "stdout",
     "output_type": "stream",
     "text": [
      "hello world! 123\n",
      "Letters 10 Digits 3\n"
     ]
    }
   ],
   "source": [
    "'''Write a program that accepts a sentence and calculate the number of letters and digits.\n",
    "Suppose the following input is supplied to the program:\n",
    "hello world! 123\n",
    "Then, the output should be:\n",
    "LETTERS 10\n",
    "DIGITS 3\n",
    "'''\n",
    "a=0;\n",
    "b=0\n",
    "inp=input()\n",
    "for x in inp:\n",
    "    if x.isalnum():\n",
    "        if x.isalpha():\n",
    "            a+=1\n",
    "        else:\n",
    "            b+=1\n",
    "    \n",
    "    \n",
    "print (\"Letters \"+str(a), \"Digits \"+str(b))\n"
   ]
  },
  {
   "cell_type": "code",
   "execution_count": 33,
   "metadata": {},
   "outputs": [
    {
     "name": "stdout",
     "output_type": "stream",
     "text": [
      "0\n",
      "Hello wOrld!\n",
      "upper case 2\n",
      "lower case 8\n"
     ]
    }
   ],
   "source": [
    "'''Write a program that accepts a sentence and calculate the number of upper case letters and lower case letters.\n",
    "Suppose the following input is supplied to the program:\n",
    "Hello world!\n",
    "Then, the output should be:\n",
    "UPPER CASE 1\n",
    "LOWER CASE 9\n",
    "\n",
    "'''\n",
    "\n",
    "dic={\"upper\":0, \"lower\":0}\n",
    "print(dic['upper'])\n",
    "\n",
    "phir=input()\n",
    "for x in phir: \n",
    "    if x.isupper(): \n",
    "        dic['upper']+=1 \n",
    "    elif  x.islower():\n",
    "        dic['lower']+=1\n",
    "        \n",
    "        \n",
    "print(\"upper case \"+str(dic['upper']))       \n",
    "print(\"lower case \"+str(dic['lower']))    "
   ]
  },
  {
   "cell_type": "code",
   "execution_count": 34,
   "metadata": {},
   "outputs": [
    {
     "name": "stdout",
     "output_type": "stream",
     "text": [
      "9\n",
      "11106\n"
     ]
    }
   ],
   "source": [
    "a = input()\n",
    "n1 = int( \"%s\" % a )\n",
    "n2 = int( \"%s%s\" % (a,a) )\n",
    "n3 = int( \"%s%s%s\" % (a,a,a) )\n",
    "n4 = int( \"%s%s%s%s\" % (a,a,a,a) )\n",
    "print (n1+n2+n3+n4)"
   ]
  },
  {
   "cell_type": "code",
   "execution_count": 5,
   "metadata": {},
   "outputs": [
    {
     "name": "stdout",
     "output_type": "stream",
     "text": [
      "1,2,3,4,5,6,7,8,9\n",
      "['1', '2', '3', '4', '5', '6', '7', '8', '9']\n",
      "[1, 9, 25, 49, 81]\n"
     ]
    }
   ],
   "source": [
    "'''Question 16\n",
    "Level 2\n",
    "\n",
    "Question:\n",
    "Use a list comprehension to square each odd number in a list. The list is input by a sequence of comma-separated numbers.\n",
    "Suppose the following input is supplied to the program:\n",
    "1,2,3,4,5,6,7,8,9\n",
    "Then, the output should be:\n",
    "1,3,5,7,9\n",
    "\n",
    "Hints:\n",
    "In case of input data being supplied to the question, it should be assumed to be a console input.\n",
    "'''\n",
    "a=0;\n",
    "integ=input().split(',')\n",
    "print (integ)\n",
    "s=[ int(i)*int(i) for i in integ if int(i)%2!=0]\n",
    "print(s)"
   ]
  },
  {
   "cell_type": "code",
<<<<<<< HEAD
   "execution_count": 18,
   "metadata": {},
   "outputs": [
    {
     "name": "stdout",
     "output_type": "stream",
     "text": [
      "W300\n",
      "W200\n",
      "D500\n",
      "D200\n",
      "\n",
      "['W300', 'W200', 'D500', 'D200']\n",
      "iam w\n",
      "[300, 200]\n",
      "[500, 200]\n",
      "Todays collection net =200\n"
     ]
    }
   ],
=======
   "execution_count": null,
   "metadata": {},
   "outputs": [],
>>>>>>> 8e975e717dec0e4da5db5e17018664dadb75681e
   "source": [
    "'''Question 17\n",
    "Level 2\n",
    "\n",
    "Question:\n",
    "Write a program that computes the net amount of a bank account based a transaction log from console input. The transaction log format is shown as following:\n",
    "D 100\n",
    "W 200\n",
    "¡­\n",
    "D means deposit while W means withdrawal.\n",
    "Suppose the following input is supplied to the program:\n",
    "D 300\n",
    "D 300\n",
    "W 200\n",
    "D 100\n",
    "Then, the output should be:\n",
    "500\n",
    "'''\n",
    "li=[]\n",
    "d=[]\n",
    "s1=[]\n",
    "dep=0\n",
    "wdrawl=0\n",
    "\n",
    "while True:\n",
    "    inp=input()\n",
    "    if inp:\n",
    "        li.append(inp)\n",
    "    else:\n",
    "        break\n",
    "        \n",
    "[s1.append(int(i[1::])) if  i.find('D')!=0 else d.append(int(i[1::])) for i in li  ]        \n",
    "print(li)\n",
    "print(\"iam w\")\n",
    "print(s1)\n",
    "print(d)\n",
<<<<<<< HEAD
    "\n",
    "for i in s1:\n",
    "    wdrawl+=i\n",
    "    \n",
    "for i in d:\n",
    "    dep+=i\n",
    "\n",
    "print (\"Todays collection net =\"+str(dep-wdrawl))\n",
    "    "
=======
    "print([j for j in s1 ])"
>>>>>>> 8e975e717dec0e4da5db5e17018664dadb75681e
   ]
  },
  {
   "cell_type": "code",
   "execution_count": null,
   "metadata": {},
   "outputs": [],
   "source": []
  },
  {
   "cell_type": "code",
   "execution_count": null,
   "metadata": {},
   "outputs": [],
   "source": []
  },
  {
   "cell_type": "code",
   "execution_count": null,
   "metadata": {},
   "outputs": [],
   "source": []
  }
 ],
 "metadata": {
  "kernelspec": {
   "display_name": "Python 3",
   "language": "python",
   "name": "python3"
  },
  "language_info": {
   "codemirror_mode": {
    "name": "ipython",
    "version": 3
   },
   "file_extension": ".py",
   "mimetype": "text/x-python",
   "name": "python",
   "nbconvert_exporter": "python",
   "pygments_lexer": "ipython3",
   "version": "3.6.5"
  }
 },
 "nbformat": 4,
 "nbformat_minor": 2
}
